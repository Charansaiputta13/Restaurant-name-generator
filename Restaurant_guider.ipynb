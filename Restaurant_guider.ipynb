{
 "cells": [
  {
   "cell_type": "code",
   "execution_count": 7,
   "id": "75e80d1d-6b59-4e86-814b-3c8d0b6bae1e",
   "metadata": {},
   "outputs": [
    {
     "data": {
      "text/plain": [
       "{'restaurant_name': 'abraham s',\n",
       " 'menu_items': 'hummus, falafel, hummus salad, hummus sandwich, hummus wrap, hummus hummus'}"
      ]
     },
     "metadata": {},
     "output_type": "display_data"
    }
   ],
   "source": [
    "from transformers import AutoModelForSeq2SeqLM, AutoTokenizer\n",
    "import torch\n",
    "from IPython.display import display  # Fix for Jupyter\n",
    "\n",
    "# Load a better Hugging Face model\n",
    "model_name = \"google/flan-t5-large\"  # Use \"flan-t5-xl\" for more power\n",
    "device = \"cuda\" if torch.cuda.is_available() else \"cpu\"\n",
    "\n",
    "# Load tokenizer and model\n",
    "tokenizer = AutoTokenizer.from_pretrained(model_name)\n",
    "model = AutoModelForSeq2SeqLM.from_pretrained(model_name).to(device)\n",
    "\n",
    "def generate_text(prompt, max_new_tokens=50):\n",
    "    \"\"\"Generates structured text using FLAN-T5.\"\"\"\n",
    "    inputs = tokenizer(prompt, return_tensors=\"pt\", padding=True, truncation=True).to(device)\n",
    "    \n",
    "    with torch.no_grad():\n",
    "        outputs = model.generate(**inputs, max_new_tokens=max_new_tokens)\n",
    "    \n",
    "    return tokenizer.decode(outputs[0], skip_special_tokens=True)\n",
    "\n",
    "def generate_restaurant_name_and_items(cuisine):\n",
    "    \"\"\"Generates a restaurant name and menu items for a given cuisine.\"\"\"\n",
    "    restaurant_name = generate_text(f\"Suggest a fancy restaurant name for {cuisine} cuisine.\")\n",
    "    menu_items = generate_text(f\"Suggest 5 popular menu items for a {cuisine} restaurant, separated by commas.\")\n",
    "\n",
    "    return {\"restaurant_name\": restaurant_name, \"menu_items\": menu_items}\n",
    "\n",
    "# Fix for Jupyter: Use `display()` instead of `print()`\n",
    "if __name__ == \"__main__\":\n",
    "    result = generate_restaurant_name_and_items(\"Arabian\")\n",
    "    display(result)  # Works better in Jupyter\n"
   ]
  },
  {
   "cell_type": "code",
   "execution_count": null,
   "id": "9306f37e-b5ad-4e04-953a-0d1c03f6f02c",
   "metadata": {},
   "outputs": [],
   "source": []
  }
 ],
 "metadata": {
  "kernelspec": {
   "display_name": "Python 3 (ipykernel)",
   "language": "python",
   "name": "python3"
  },
  "language_info": {
   "codemirror_mode": {
    "name": "ipython",
    "version": 3
   },
   "file_extension": ".py",
   "mimetype": "text/x-python",
   "name": "python",
   "nbconvert_exporter": "python",
   "pygments_lexer": "ipython3",
   "version": "3.12.4"
  }
 },
 "nbformat": 4,
 "nbformat_minor": 5
}
